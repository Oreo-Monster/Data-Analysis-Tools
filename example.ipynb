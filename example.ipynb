{
 "cells": [
  {
   "cell_type": "markdown",
   "id": "b52a17bc",
   "metadata": {},
   "source": [
    "# Examples of Data Tool Features\n",
    "\n",
    "This notebook contains sample data to show off the features of this code base. Please ensure you have downloaded the dependancies given below. The code has been commented and you are encouraged to modify it.\n",
    "\n",
    "These tools were built for data collected from the Grumstup Lab at MSU. Some things are specific to this lab or even the speciifc table, so modification may be nesessary. Things should be well commented enough that you can find your way around.\n",
    "\n",
    "#### Dependacies:\n",
    "\n",
    "data.py\n",
    "\n",
    "kinetic.py\n",
    "\n",
    "spatialScan.py\n",
    "\n",
    "ss.py\n",
    "\n",
    "plotstyle.mplstyle\n",
    "\n",
    "Data in exampleData/\n",
    "\n",
    "#### Packages:\n",
    "\n",
    "numpy, matplotlib, scipy, palettable, glob, re, PIL, io"
   ]
  },
  {
   "cell_type": "code",
   "execution_count": null,
   "id": "804717e0",
   "metadata": {},
   "outputs": [],
   "source": [
    "from kinetic import KineticScan\n",
    "from spatialScan import SpatialScan\n",
    "from ss import SpatiallySeparated\n",
    "\n",
    "import numpy as np\n",
    "import matplotlib.pyplot as plt\n",
    "import glob\n",
    "import re\n",
    "\n",
    "# Automatically reload external modules\n",
    "%load_ext autoreload\n",
    "%autoreload 2\n",
    "\n",
    "%matplotlib notebook"
   ]
  },
  {
   "cell_type": "code",
   "execution_count": null,
   "id": "2dd26442",
   "metadata": {},
   "outputs": [],
   "source": [
    "#Getting all data files in exampleData/\n",
    "exampleData = glob.glob('example/**/*.dat', recursive=True)\n",
    "kinetics = []\n",
    "ss = []\n",
    "so = []\n",
    "\n",
    "for fpath in exampleData:\n",
    "    #Getting the name of the file, and striping off the path and extentions\n",
    "    fname = re.search('[\\\\\\/][^\\\\\\/\\n]+.dat', fpath)[0][1:-4]\n",
    "    #Making the right object and adding it to the proper list\n",
    "    if 'KIN' in fname:\n",
    "        ko = KineticScan(fpath, label=fname)\n",
    "        kinetics.append(ko)\n",
    "    elif 'GV' in fname:\n",
    "        gv = SpatiallySeparated(fpath, label=fname)\n",
    "        ss.append(gv)\n",
    "    elif 'NP' in fname:\n",
    "        img = SpatialScan(fpath, label=fname)\n",
    "        so.append(img)\n",
    "        \n",
    "print(f'Number of Kinetic Scans: {len(kinetics)}, should be 3')\n",
    "print(f'Number of SS Scans: {len(ss)}, should be 21')\n",
    "print(f'Number of SO Scans: {len(so)}, should be 1')\n"
   ]
  },
  {
   "cell_type": "markdown",
   "id": "ca260c76",
   "metadata": {},
   "source": [
    "## 1. Kinetic Scans"
   ]
  },
  {
   "cell_type": "code",
   "execution_count": null,
   "id": "719afc7c",
   "metadata": {
    "scrolled": false
   },
   "outputs": [],
   "source": [
    "#Visualizeing all files\n",
    "for k in kinetics:\n",
    "    print(f'----------------------------\\n{fname}')\n",
    "    k.visualize()"
   ]
  },
  {
   "cell_type": "code",
   "execution_count": null,
   "id": "9c3f608c",
   "metadata": {},
   "outputs": [],
   "source": [
    "#Fitting all scans with double exponetial curve\n",
    "for k in kinetics:\n",
    "    k.fitCurve()\n",
    "    k.plotFit()\n",
    "\n",
    "#A RuntimeWarning may apear below, that means that a fit isn't very good"
   ]
  },
  {
   "cell_type": "code",
   "execution_count": null,
   "id": "90842865",
   "metadata": {},
   "outputs": [],
   "source": [
    "#Ploting R1 as an interactive plot\n",
    "for k in kinetics:\n",
    "    if 'R1' in k.label:\n",
    "        R1 = k\n",
    "        break\n",
    "\n",
    "#Note I have to store what interactiveVis() returns, \n",
    "#or else it will be garbage collected\n",
    "R1.interactiveVis()\n",
    "plt.show()"
   ]
  },
  {
   "cell_type": "code",
   "execution_count": null,
   "id": "adc779c1",
   "metadata": {},
   "outputs": [],
   "source": [
    "print(R1.blah)"
   ]
  },
  {
   "cell_type": "markdown",
   "id": "d9573c92",
   "metadata": {},
   "source": [
    "## 02. Spatially Separated"
   ]
  },
  {
   "cell_type": "code",
   "execution_count": null,
   "id": "b1dfca1a",
   "metadata": {},
   "outputs": [],
   "source": [
    "%matplotlib inline\n",
    "#The only feature now is creating a GIF given a directory full of ss scans\n",
    "\n",
    "for i in range(3):\n",
    "    SpatiallySeparated.mkGIF(f'example/R{i+1}', destPATH='outputs', name=f'R{i+1}')\n",
    "    \n",
    "    \n",
    "%matplotlib notebook"
   ]
  },
  {
   "cell_type": "markdown",
   "id": "cf2f4339",
   "metadata": {},
   "source": [
    "## 03. Spatially Overlapped"
   ]
  },
  {
   "cell_type": "code",
   "execution_count": null,
   "id": "52be5ac3",
   "metadata": {},
   "outputs": [],
   "source": [
    "if type(so) == list:\n",
    "    so = so[0]\n",
    "\n",
    "so.visualize()\n",
    "plt.show()"
   ]
  }
 ],
 "metadata": {
  "kernelspec": {
   "display_name": "Python 3",
   "language": "python",
   "name": "python3"
  },
  "language_info": {
   "codemirror_mode": {
    "name": "ipython",
    "version": 3
   },
   "file_extension": ".py",
   "mimetype": "text/x-python",
   "name": "python",
   "nbconvert_exporter": "python",
   "pygments_lexer": "ipython3",
   "version": "3.9.4"
  }
 },
 "nbformat": 4,
 "nbformat_minor": 5
}
