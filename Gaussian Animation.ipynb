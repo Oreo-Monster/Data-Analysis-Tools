{
 "cells": [
  {
   "cell_type": "code",
   "execution_count": 33,
   "id": "89f96989",
   "metadata": {},
   "outputs": [],
   "source": [
    "import matplotlib.pyplot as plt\n",
    "import numpy as np\n",
    "import io\n",
    "import PIL\n",
    "\n",
    "plt.style.use('plotstyle.mplstyle')"
   ]
  },
  {
   "cell_type": "code",
   "execution_count": 30,
   "id": "89fa1389",
   "metadata": {},
   "outputs": [
    {
     "data": {
      "image/png": "[encoded data removed]",
      "text/plain": [
       "<Figure size 432x288 with 1 Axes>"
      ]
     },
     "metadata": {
      "needs_background": "light"
     },
     "output_type": "display_data"
    }
   ],
   "source": [
    "def gauss(x, sigma):\n",
    "    a = 3/(sigma*(2*np.pi))\n",
    "    e = (-0.5*((x*x)/(sigma*sigma)))\n",
    "    return a*np.exp(e) \n",
    "\n",
    "def fig2img(fig):\n",
    "    buf = io.BytesIO()\n",
    "    fig.savefig(buf)\n",
    "    buf.seek(0)\n",
    "    img = PIL.Image.open(buf)\n",
    "    return img\n",
    "\n",
    "x = np.linspace(-5,5,100)\n",
    "y = gauss(x, 1)\n",
    "\n",
    "fig, ax = plt.subplots()\n",
    "ax.plot(x,y)\n",
    "\n",
    "plt.show()\n"
   ]
  },
  {
   "cell_type": "code",
   "execution_count": 58,
   "id": "3705c587",
   "metadata": {},
   "outputs": [],
   "source": [
    "numFrames = 200\n",
    "sigmaRange = (0.2,2)\n",
    "sigmaStep = (sigmaRange[1]-sigmaRange[0])/numFrames\n",
    "\n",
    "x = np.linspace(-10,10,1000)\n",
    "#y = np.empty((numFrames, x.shape[0]))\n",
    "imgs = []\n",
    "\n",
    "for i in range(numFrames):\n",
    "    y = gauss(x, sigmaRange[0] + sigmaStep*i)\n",
    "    fig, ax = plt.subplots()\n",
    "    c = [(numFrames-i*4)/numFrames, 0, i*4/numFrames]\n",
    "    if c[0] < 0: c[0] = 0\n",
    "    if c[2] > 1: c[2] = 1\n",
    "    ax.plot(x,y, c=c)\n",
    "    ax.set_ylim(0,3)\n",
    "    ax.set_xlim(-5,5)\n",
    "    ax.set_axis_off()\n",
    "    imgs.append(fig2img(fig))\n",
    "    plt.close()\n",
    "    \n",
    "imgs[0].save('outputs/gaussDiff.gif', format='GIF', append_images=imgs[1:], save_all=True, duration=20, loop=0)\n",
    "    \n",
    "    \n",
    "\n",
    "    \n",
    "    \n",
    "\n",
    "\n",
    "    "
   ]
  }
 ],
 "metadata": {
  "kernelspec": {
   "display_name": "Python 3",
   "language": "python",
   "name": "python3"
  },
  "language_info": {
   "codemirror_mode": {
    "name": "ipython",
    "version": 3
   },
   "file_extension": ".py",
   "mimetype": "text/x-python",
   "name": "python",
   "nbconvert_exporter": "python",
   "pygments_lexer": "ipython3",
   "version": "3.9.4"
  }
 },
 "nbformat": 4,
 "nbformat_minor": 5
}
